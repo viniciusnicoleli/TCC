{
 "cells": [
  {
   "cell_type": "code",
   "execution_count": 1,
   "metadata": {},
   "outputs": [],
   "source": [
    "import os, sys\n",
    "sys.path.insert(0, os.path.abspath(\"..\"))\n",
    "from utilidades.calibration import utilities as ult\n",
    "#from src.AdaCostClassing import AdaCostClassifier as acc\n",
    "from src.AdaCostClassing import fit_adacostClassifier as fac\n",
    "from src import dbsmote, easy_ensemble,lightgbm,mct,smote,svm_vr\n",
    "from src.BBO import fit_bbo as fbb\n",
    "from src.CDBH import cdbh_main as cdbh\n",
    "import pandas as pd"
   ]
  },
  {
   "cell_type": "code",
   "execution_count": 2,
   "metadata": {},
   "outputs": [],
   "source": [
    "df = pd.read_csv('creditcard.csv')"
   ]
  },
  {
   "cell_type": "code",
   "execution_count": 3,
   "metadata": {},
   "outputs": [
    {
     "ename": "KeyboardInterrupt",
     "evalue": "",
     "output_type": "error",
     "traceback": [
      "\u001b[1;31m---------------------------------------------------------------------------\u001b[0m",
      "\u001b[1;31mKeyboardInterrupt\u001b[0m                         Traceback (most recent call last)",
      "Cell \u001b[1;32mIn[3], line 2\u001b[0m\n\u001b[0;32m      1\u001b[0m smotao \u001b[39m=\u001b[39m cdbh\u001b[39m.\u001b[39mtcc_cdbh(df,\u001b[39m'\u001b[39m\u001b[39mClass\u001b[39m\u001b[39m'\u001b[39m)\n\u001b[1;32m----> 2\u001b[0m smotao\u001b[39m.\u001b[39;49mfit()\n",
      "File \u001b[1;32mc:\\Users\\vinic\\Documents\\Projetos\\TCC\\src\\CDBH\\cdbh_main.py:62\u001b[0m, in \u001b[0;36mtcc_cdbh.fit\u001b[1;34m(self)\u001b[0m\n\u001b[0;32m     58\u001b[0m df_train \u001b[39m=\u001b[39m pd\u001b[39m.\u001b[39mmerge(pipe_prep\u001b[39m.\u001b[39mtransform(X_train), pd\u001b[39m.\u001b[39mDataFrame(y_train),left_index\u001b[39m=\u001b[39m\u001b[39mTrue\u001b[39;00m, right_index\u001b[39m=\u001b[39m\u001b[39mTrue\u001b[39;00m, how \u001b[39m=\u001b[39m \u001b[39m'\u001b[39m\u001b[39minner\u001b[39m\u001b[39m'\u001b[39m)\n\u001b[0;32m     60\u001b[0m cdbhzer \u001b[39m=\u001b[39m cf\u001b[39m.\u001b[39mcdbh_functions(dataframe \u001b[39m=\u001b[39m df_train, df_train\u001b[39m=\u001b[39mdf_train)\n\u001b[1;32m---> 62\u001b[0m df_train_cdbh \u001b[39m=\u001b[39m cdbhzer\u001b[39m.\u001b[39;49mcdbh(df_train\u001b[39m=\u001b[39;49mdf_train)\n\u001b[0;32m     63\u001b[0m X_train_cdbh, y_train_cdbh \u001b[39m=\u001b[39m ult\u001b[39m.\u001b[39msplitxy(df_train_cdbh, \u001b[39m'\u001b[39m\u001b[39mClass\u001b[39m\u001b[39m'\u001b[39m)\n\u001b[0;32m     65\u001b[0m cv \u001b[39m=\u001b[39m ult\u001b[39m.\u001b[39mStratifiedShuffleSplit(n_splits \u001b[39m=\u001b[39m \u001b[39m5\u001b[39m, test_size \u001b[39m=\u001b[39m \u001b[39m0.3\u001b[39m, random_state \u001b[39m=\u001b[39m \u001b[39m42\u001b[39m)\n",
      "File \u001b[1;32mc:\\Users\\vinic\\Documents\\Projetos\\TCC\\src\\CDBH\\cdbh_functions_tcc.py:76\u001b[0m, in \u001b[0;36mcdbh_functions.cdbh\u001b[1;34m(self, df_train)\u001b[0m\n\u001b[0;32m     73\u001b[0m index \u001b[39m=\u001b[39m index\u001b[39m.\u001b[39mtolist()[\u001b[39m0\u001b[39m]\n\u001b[0;32m     75\u001b[0m j \u001b[39m=\u001b[39m choice(index)\n\u001b[1;32m---> 76\u001b[0m rand \u001b[39m=\u001b[39m choice(np\u001b[39m.\u001b[39;49mlinspace(\u001b[39m0\u001b[39;49m, \u001b[39m1\u001b[39;49m, \u001b[39m100\u001b[39;49m))\n\u001b[0;32m     77\u001b[0m vector_j \u001b[39m=\u001b[39m X_train_mino\u001b[39m.\u001b[39miloc[j]\n\u001b[0;32m     79\u001b[0m sub_synt \u001b[39m=\u001b[39m \u001b[39mlist\u001b[39m(\u001b[39mmap\u001b[39m(op\u001b[39m.\u001b[39msub, vector_i\u001b[39m.\u001b[39mvalues\u001b[39m.\u001b[39mflatten()\u001b[39m.\u001b[39mtolist(), vector_j\u001b[39m.\u001b[39mvalues\u001b[39m.\u001b[39mflatten()\u001b[39m.\u001b[39mtolist()))\n",
      "File \u001b[1;32m<__array_function__ internals>:180\u001b[0m, in \u001b[0;36mlinspace\u001b[1;34m(*args, **kwargs)\u001b[0m\n",
      "File \u001b[1;32mc:\\Users\\vinic\\anaconda3\\envs\\TCC\\lib\\site-packages\\numpy\\core\\function_base.py:135\u001b[0m, in \u001b[0;36mlinspace\u001b[1;34m(start, stop, num, endpoint, retstep, dtype, axis)\u001b[0m\n\u001b[0;32m    132\u001b[0m     dtype \u001b[39m=\u001b[39m dt\n\u001b[0;32m    134\u001b[0m delta \u001b[39m=\u001b[39m stop \u001b[39m-\u001b[39m start\n\u001b[1;32m--> 135\u001b[0m y \u001b[39m=\u001b[39m _nx\u001b[39m.\u001b[39;49marange(\u001b[39m0\u001b[39;49m, num, dtype\u001b[39m=\u001b[39;49mdt)\u001b[39m.\u001b[39mreshape((\u001b[39m-\u001b[39m\u001b[39m1\u001b[39m,) \u001b[39m+\u001b[39m (\u001b[39m1\u001b[39m,) \u001b[39m*\u001b[39m ndim(delta))\n\u001b[0;32m    136\u001b[0m \u001b[39m# In-place multiplication y *= delta/div is faster, but prevents the multiplicant\u001b[39;00m\n\u001b[0;32m    137\u001b[0m \u001b[39m# from overriding what class is produced, and thus prevents, e.g. use of Quantities,\u001b[39;00m\n\u001b[0;32m    138\u001b[0m \u001b[39m# see gh-7142. Hence, we multiply in place only for standard scalar types.\u001b[39;00m\n\u001b[0;32m    139\u001b[0m _mult_inplace \u001b[39m=\u001b[39m _nx\u001b[39m.\u001b[39misscalar(delta)\n",
      "\u001b[1;31mKeyboardInterrupt\u001b[0m: "
     ]
    }
   ],
   "source": [
    "smotao = cdbh.tcc_cdbh(df,'Class')\n",
    "smotao.fit()"
   ]
  }
 ],
 "metadata": {
  "kernelspec": {
   "display_name": "TCC",
   "language": "python",
   "name": "python3"
  },
  "language_info": {
   "codemirror_mode": {
    "name": "ipython",
    "version": 3
   },
   "file_extension": ".py",
   "mimetype": "text/x-python",
   "name": "python",
   "nbconvert_exporter": "python",
   "pygments_lexer": "ipython3",
   "version": "3.9.16"
  },
  "orig_nbformat": 4
 },
 "nbformat": 4,
 "nbformat_minor": 2
}
