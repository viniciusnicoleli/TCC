{
 "cells": [
  {
   "cell_type": "code",
   "execution_count": 1,
   "metadata": {},
   "outputs": [
    {
     "name": "stdout",
     "output_type": "stream",
     "text": [
      "(569, 32) diagnosis\n",
      "B            357\n",
      "M            212\n",
      "Name: count, dtype: int64\n"
     ]
    }
   ],
   "source": [
    "# For all Class\n",
    "import smote_variants as sv\n",
    "import pandas as pd\n",
    "import numpy as np\n",
    "import sklearn as sk\n",
    "\n",
    "# Getting utilidades\n",
    "import os, sys\n",
    "sys.path.insert(0, os.path.abspath(\"..\"))\n",
    "from utilidades.calibration import utilities as ult\n",
    "\n",
    "\n",
    "# For function fit\n",
    "import sklearn.pipeline\n",
    "from sklearn.preprocessing import FunctionTransformer\n",
    "from sklearn.pipeline import Pipeline\n",
    "\n",
    "# LGBM\n",
    "from skopt.space import Real, Categorical, Integer\n",
    "from skopt import BayesSearchCV\n",
    "from lightgbm import early_stopping\n",
    "from lightgbm import LGBMClassifier\n",
    "from sklearn.model_selection import StratifiedShuffleSplit\n",
    "from sklearn.metrics import average_precision_score\n",
    "# Testing data base\n",
    "\n",
    "df = pd.read_csv('breast-cancer.csv') ; print(df.shape,df.select_dtypes('object').value_counts())\n",
    "df['target'] = np.where(df['diagnosis'] == 'B',0,1)\n",
    "df.drop(['diagnosis'],axis=1,inplace=True)"
   ]
  },
  {
   "cell_type": "code",
   "execution_count": 4,
   "metadata": {},
   "outputs": [],
   "source": [
    "class svm_balance_tcc():\n",
    "    def __init__(self, dataframe : pd.DataFrame, target: str,metric : str = 'average_precision', pipe_final : sklearn.pipeline = None):\n",
    "        self.dataframe = dataframe\n",
    "        self.target = target\n",
    "        self.metric = metric\n",
    "        self._pipe_final = pipe_final\n",
    "    \n",
    "    def fit(self,random_state=42):\n",
    "\n",
    "        self.X,y = ult.splitxy(self.dataframe,self.target)\n",
    "\n",
    "        self.X_forfit = self.X.to_numpy()\n",
    "\n",
    "        self.X_train, self.y_train, self.X_test, self.y_test, self.X_val, self.y_val = ult.train_test_val(self.X_forfit,y)\n",
    "\n",
    "        self.X_test = pd.DataFrame(self.X_test,columns=self.X.columns)\n",
    "\n",
    "        prep_feat_tuple = ult.create_prep_pipe2(self.dataframe,self.target)\n",
    "        self.prep_feat = prep_feat_tuple[0]\n",
    "\n",
    "        self.lists_pandarizer = list(prep_feat_tuple[1]) + list(prep_feat_tuple[2])\n",
    "\n",
    "        self.X_train_smote, self.y_train_smote = self.svm_vr2_0()\n",
    "\n",
    "        self.pipe_prep = Pipeline([\n",
    "                    ('transformer_prep', self.prep_feat),\n",
    "                    (\"pandarizer\", FunctionTransformer(lambda x: pd.DataFrame(x, columns = self.lists_pandarizer))),\n",
    "                ])\n",
    "        self.pipe_prep.fit(self.X_train_smote)\n",
    "        \n",
    "        LGBM = LGBMClassifier(random_state = 42, n_jobs = -1)\n",
    "\n",
    "        pipe_tuning = Pipeline([\n",
    "            ('transformer_prep', self.prep_feat),\n",
    "            (\"pandarizer\", FunctionTransformer(lambda x: pd.DataFrame(x, columns = self.lists_pandarizer))),\n",
    "            ('estimator', LGBM)\n",
    "        ])\n",
    "        \n",
    "        cv = StratifiedShuffleSplit(n_splits = 5, test_size = 0.3, random_state = 42)\n",
    "        \n",
    "        metric = self.metric\n",
    "        \n",
    "        fit_params = {\n",
    "            'eval_metric': metric, \n",
    "            'eval_set': [(self.X_test, pd.DataFrame(self.y_test))],\n",
    "            'callbacks': [(early_stopping(stopping_rounds = 10, verbose = True))],\n",
    "        }        \n",
    "        \n",
    "        LGBM_search_space = {\n",
    "            \"estimator__learning_rate\": Real(0.001, 0.01, prior = 'log-uniform'),\n",
    "            \"estimator__n_estimators\": Integer(100, 1000),\n",
    "            \"estimator__class_weight\": Categorical(['balanced', None]),\n",
    "            \"estimator__num_leaves\": Integer(32, 256),\n",
    "            \"estimator__min_child_samples\": Integer(100, 1000),\n",
    "            \"estimator__reg_alpha\": Real(0, 100, prior = 'uniform'),\n",
    "            \"estimator__reg_lambda\": Real(10., 200., prior = 'uniform'),\n",
    "            \"estimator__objective\": Categorical(['binary']),\n",
    "            \"estimator__importance_type\":Categorical(['gain']),\n",
    "            \"estimator__boosting_type\": Categorical(['goss'])\n",
    "        }    \n",
    "        \n",
    "        LGBM_bayes_search = BayesSearchCV(pipe_tuning, LGBM_search_space, n_iter = 2, scoring = metric, \n",
    "                                         return_train_score = True, \n",
    "                                         fit_params = fit_params,\n",
    "                                         n_jobs = -1, cv = cv, random_state = random_state, optimizer_kwargs = {'base_estimator': 'GP'})\n",
    "        \n",
    "        \n",
    "        LGBM_bayes_search.fit(self.pipe_prep.transform(self.X_train_smote), self.y_train_smote)        \n",
    "\n",
    "        results_cv = pd.DataFrame(LGBM_bayes_search.cv_results_)\n",
    "        \n",
    "        temp = results_cv[['mean_train_score', 'mean_test_score']]\n",
    "        temp['diff'] = temp['mean_test_score'] - temp['mean_train_score']\n",
    "        to_go = temp[abs(temp['diff']) < 0.05].sort_values(by = 'mean_test_score', ascending = False).head(1).index\n",
    "        \n",
    "        params = results_cv.loc[to_go.values[0]]\n",
    "        kwargs = params.params   \n",
    "        print(kwargs)\n",
    "        \n",
    "        best_LGBM = LGBMClassifier(random_state = random_state, n_jobs = -1, verbose = -1, **kwargs)\n",
    "        \n",
    "        best_LGBM.fit(self.pipe_prep.transform(self.X_train_smote), self.y_train_smote, early_stopping_rounds = 10, verbose = 20, eval_metric = metric,\n",
    "                     eval_set = [(self.pipe_prep.transform(self.X_test), self.y_test)]) \n",
    "        \n",
    "        \n",
    "        pipe_final = Pipeline(\n",
    "        [\n",
    "            ('pipe_transformer_prep', self.pipe_prep),\n",
    "            ('pipe_estimator', best_LGBM)\n",
    "        ])       \n",
    "        \n",
    "        self._pipe_final = pipe_final\n",
    "        \n",
    "    def svm_vr2_0(self):\n",
    "        \n",
    "        svm = sv.SVM_balance(random_state=42)\n",
    "        X_train_smote, y_train_smote = svm.sample(self.X_train,\n",
    "                                                             self.y_train)\n",
    "\n",
    "        X_train_smote = pd.DataFrame(X_train_smote,columns=self.X.columns)\n",
    "        return(X_train_smote,y_train_smote)\n",
    "\n",
    "    def predict_proba(self, who : str = 'val'):\n",
    "        if self._pipe_final is None:\n",
    "            return None\n",
    "        \n",
    "        X, y = ult.splitxy(self.dataframe, self.target)\n",
    "        X_train, y_train, X_test, y_test, X_val, y_val = ult.train_test_val(X,y)        \n",
    "        \n",
    "        dic = {'val': X_val, \n",
    "              'test': X_test,\n",
    "              'train': X_train}\n",
    "        y_score = self._pipe_final.predict_proba(dic[who])[:,1]\n",
    "        return y_score\n",
    "    \n",
    "    def get_metric(self, who : str = 'val'):\n",
    "        if self._pipe_final is None:\n",
    "            return None\n",
    "        \n",
    "        X, y = ult.splitxy(self.dataframe, self.target)\n",
    "        X_train, y_train, X_test, y_test, X_val, y_val = ult.train_test_val(X,y)\n",
    "        \n",
    "        dic_x = {'val': X_val, \n",
    "              'test': X_test,\n",
    "              'train': X_train}\n",
    "\n",
    "        dic_y = {'val': y_val, \n",
    "              'test': y_test,\n",
    "              'train': y_train}\n",
    "        \n",
    "        \n",
    "        y_score = self._pipe_final.predict_proba(dic_x[who])[:,1]\n",
    "        average_precision = average_precision_score(dic_y[who], y_score)\n",
    "        return average_precision\n",
    "    \n",
    "    \n",
    "    def plot_dist(self):\n",
    "        if self._pipe_final is None:\n",
    "            return None        \n",
    "\n",
    "        X, y = ult.splitxy(self.dataframe, self.target)\n",
    "        X_train, y_train, X_test, y_test, X_val, y_val = ult.train_test_val(X,y)        \n",
    "        \n",
    "        y_score_train = self._pipe_final.predict_proba(X_train)[:,1]\n",
    "        y_score_val = self._pipe_final.predict_proba(X_val)[:,1]\n",
    "        \n",
    "        ult.plot_dist(y_train, y_score_train, y_val, y_score_val)"
   ]
  },
  {
   "cell_type": "code",
   "execution_count": 8,
   "metadata": {},
   "outputs": [],
   "source": [
    "df = pd.read_csv('creditcard.csv')"
   ]
  },
  {
   "cell_type": "code",
   "execution_count": 10,
   "metadata": {},
   "outputs": [
    {
     "name": "stderr",
     "output_type": "stream",
     "text": [
      "2023-05-21 17:37:21,629:INFO:SVM_balance: Running sampling via ('SVM_balance', \"{'proportion': 1.0, 'n_neighbors': 5, 'nn_params': {}, 'ss_params': {'n_dim': 2, 'simplex_sampling': 'random', 'within_simplex_sampling': 'random', 'gaussian_component': None}, 'n_jobs': 1, 'random_state': 42, 'class_name': 'SVM_balance'}\")\n",
      "2023-05-21 17:37:21,632:INFO:SMOTE: Running sampling via ('SMOTE', \"{'proportion': 1.0, 'n_neighbors': 5, 'nn_params': {}, 'n_jobs': 1, 'ss_params': {'n_dim': 2, 'simplex_sampling': 'random', 'within_simplex_sampling': 'random', 'gaussian_component': {}}, 'random_state': 42, 'class_name': 'SMOTE'}\")\n",
      "2023-05-21 17:37:21,634:INFO:NearestNeighborsWithMetricTensor: NN fitting with metric minkowski\n",
      "2023-05-21 17:37:21,635:INFO:NearestNeighborsWithMetricTensor: kneighbors query minkowski\n",
      "2023-05-21 17:37:21,640:INFO:SMOTE: simplex sampling with n_dim 2\n",
      "2023-05-21 17:37:22,108:INFO:SVM_balance: Evaluating SVM with C=0.010000\n",
      "2023-05-21 19:01:19,770:INFO:SVM_balance: Evaluating SVM with C=0.100000\n",
      "2023-05-21 19:23:37,298:INFO:SVM_balance: Evaluating SVM with C=1.000000\n",
      "2023-05-21 19:31:07,123:INFO:SVM_balance: Evaluating SVM with C=10.000000\n",
      "C:\\Users\\vinic\\AppData\\Local\\Temp\\ipykernel_15456\\1429296167.py:73: SettingWithCopyWarning: \n",
      "A value is trying to be set on a copy of a slice from a DataFrame.\n",
      "Try using .loc[row_indexer,col_indexer] = value instead\n",
      "\n",
      "See the caveats in the documentation: https://pandas.pydata.org/pandas-docs/stable/user_guide/indexing.html#returning-a-view-versus-a-copy\n",
      "  temp['diff'] = temp['mean_test_score'] - temp['mean_train_score']\n"
     ]
    },
    {
     "name": "stdout",
     "output_type": "stream",
     "text": [
      "OrderedDict([('estimator__boosting_type', 'goss'), ('estimator__class_weight', None), ('estimator__importance_type', 'gain'), ('estimator__learning_rate', 0.008937661586109223), ('estimator__min_child_samples', 878), ('estimator__n_estimators', 156), ('estimator__num_leaves', 63), ('estimator__objective', 'binary'), ('estimator__reg_alpha', 63.57291018791703), ('estimator__reg_lambda', 191.1612285360608)])\n"
     ]
    },
    {
     "name": "stderr",
     "output_type": "stream",
     "text": [
      "c:\\Users\\vinic\\anaconda3\\envs\\TCC\\lib\\site-packages\\lightgbm\\sklearn.py:726: UserWarning: 'early_stopping_rounds' argument is deprecated and will be removed in a future release of LightGBM. Pass 'early_stopping()' callback via 'callbacks' argument instead.\n",
      "  _log_warning(\"'early_stopping_rounds' argument is deprecated and will be removed in a future release of LightGBM. \"\n",
      "c:\\Users\\vinic\\anaconda3\\envs\\TCC\\lib\\site-packages\\lightgbm\\sklearn.py:736: UserWarning: 'verbose' argument is deprecated and will be removed in a future release of LightGBM. Pass 'log_evaluation()' callback via 'callbacks' argument instead.\n",
      "  _log_warning(\"'verbose' argument is deprecated and will be removed in a future release of LightGBM. \"\n"
     ]
    },
    {
     "name": "stdout",
     "output_type": "stream",
     "text": [
      "[20]\tvalid_0's average_precision: 0.557637\tvalid_0's binary_logloss: 0.0865731\n"
     ]
    }
   ],
   "source": [
    "smotao = svm_balance_tcc(df,'Class')\n",
    "smotao.fit()"
   ]
  },
  {
   "cell_type": "code",
   "execution_count": 11,
   "metadata": {},
   "outputs": [
    {
     "data": {
      "text/plain": [
       "[0.8350883454909623, 0.7193432997800333, 0.7128742217287685]"
      ]
     },
     "execution_count": 11,
     "metadata": {},
     "output_type": "execute_result"
    }
   ],
   "source": [
    "[smotao.get_metric(who = 'train'), smotao.get_metric(who = 'test'), smotao.get_metric(who = 'val')]"
   ]
  },
  {
   "cell_type": "code",
   "execution_count": 12,
   "metadata": {},
   "outputs": [
    {
     "name": "stderr",
     "output_type": "stream",
     "text": [
      "c:\\Users\\vinic\\Documents\\Projetos\\TCC\\utilidades\\calibration.py:151: UserWarning: \n",
      "\n",
      "`distplot` is a deprecated function and will be removed in seaborn v0.14.0.\n",
      "\n",
      "Please adapt your code to use either `displot` (a figure-level function with\n",
      "similar flexibility) or `histplot` (an axes-level function for histograms).\n",
      "\n",
      "For a guide to updating your code to use the new functions, please see\n",
      "https://gist.github.com/mwaskom/de44147ed2974457ad6372750bbe5751\n",
      "\n",
      "  sns.distplot(list_1, kde = True, ax = axs[0], hist = True, bins = 100)\n",
      "c:\\Users\\vinic\\Documents\\Projetos\\TCC\\utilidades\\calibration.py:152: UserWarning: \n",
      "\n",
      "`distplot` is a deprecated function and will be removed in seaborn v0.14.0.\n",
      "\n",
      "Please adapt your code to use either `displot` (a figure-level function with\n",
      "similar flexibility) or `histplot` (an axes-level function for histograms).\n",
      "\n",
      "For a guide to updating your code to use the new functions, please see\n",
      "https://gist.github.com/mwaskom/de44147ed2974457ad6372750bbe5751\n",
      "\n",
      "  sns.distplot(list_2, kde = True, ax = axs[0], hist = True, bins = 100)\n",
      "c:\\Users\\vinic\\Documents\\Projetos\\TCC\\utilidades\\calibration.py:165: UserWarning: \n",
      "\n",
      "`distplot` is a deprecated function and will be removed in seaborn v0.14.0.\n",
      "\n",
      "Please adapt your code to use either `displot` (a figure-level function with\n",
      "similar flexibility) or `histplot` (an axes-level function for histograms).\n",
      "\n",
      "For a guide to updating your code to use the new functions, please see\n",
      "https://gist.github.com/mwaskom/de44147ed2974457ad6372750bbe5751\n",
      "\n",
      "  sns.distplot(list_1, kde = True, ax = axs[1], hist = True, bins = 100)\n",
      "c:\\Users\\vinic\\Documents\\Projetos\\TCC\\utilidades\\calibration.py:166: UserWarning: \n",
      "\n",
      "`distplot` is a deprecated function and will be removed in seaborn v0.14.0.\n",
      "\n",
      "Please adapt your code to use either `displot` (a figure-level function with\n",
      "similar flexibility) or `histplot` (an axes-level function for histograms).\n",
      "\n",
      "For a guide to updating your code to use the new functions, please see\n",
      "https://gist.github.com/mwaskom/de44147ed2974457ad6372750bbe5751\n",
      "\n",
      "  sns.distplot(list_2, kde = True, ax = axs[1], hist = True, bins = 100)\n"
     ]
    },
    {
     "data": {
      "image/png": "[encoded data removed]",
      "text/plain": [
       "<Figure size 1600x600 with 2 Axes>"
      ]
     },
     "metadata": {},
     "output_type": "display_data"
    }
   ],
   "source": [
    "smotao.plot_dist()"
   ]
  }
 ],
 "metadata": {
  "kernelspec": {
   "display_name": "TCC",
   "language": "python",
   "name": "python3"
  },
  "language_info": {
   "codemirror_mode": {
    "name": "ipython",
    "version": 3
   },
   "file_extension": ".py",
   "mimetype": "text/x-python",
   "name": "python",
   "nbconvert_exporter": "python",
   "pygments_lexer": "ipython3",
   "version": "3.9.16"
  },
  "orig_nbformat": 4
 },
 "nbformat": 4,
 "nbformat_minor": 2
}
