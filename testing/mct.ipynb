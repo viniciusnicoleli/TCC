{
 "cells": [
  {
   "cell_type": "code",
   "execution_count": 5,
   "metadata": {},
   "outputs": [
    {
     "name": "stdout",
     "output_type": "stream",
     "text": [
      "(569, 32) diagnosis\n",
      "B            357\n",
      "M            212\n",
      "Name: count, dtype: int64\n"
     ]
    }
   ],
   "source": [
    "# For all Class\n",
    "import smote_variants as sv\n",
    "import pandas as pd\n",
    "import numpy as np\n",
    "import sklearn as sk\n",
    "\n",
    "# Getting utilidades\n",
    "import os, sys\n",
    "sys.path.insert(0, os.path.abspath(\"..\"))\n",
    "from utilidades.calibration import utilities as ult\n",
    "\n",
    "\n",
    "# For function fit\n",
    "import sklearn.pipeline\n",
    "from sklearn.preprocessing import FunctionTransformer\n",
    "from sklearn.pipeline import Pipeline\n",
    "\n",
    "# LGBM\n",
    "from skopt.space import Real, Categorical, Integer\n",
    "from skopt import BayesSearchCV\n",
    "from lightgbm import early_stopping\n",
    "from lightgbm import LGBMClassifier\n",
    "from sklearn.model_selection import StratifiedShuffleSplit\n",
    "from sklearn.metrics import average_precision_score\n",
    "# Testing data base\n",
    "\n",
    "df = pd.read_csv('breast-cancer.csv') ; print(df.shape,df.select_dtypes('object').value_counts())\n",
    "df['target'] = np.where(df['diagnosis'] == 'B',0,1)\n",
    "df.drop(['diagnosis'],axis=1,inplace=True)"
   ]
  },
  {
   "cell_type": "code",
   "execution_count": 6,
   "metadata": {},
   "outputs": [],
   "source": [
    "class mct_tcc():\n",
    "    def __init__(self, dataframe : pd.DataFrame, target: str,metric : str = 'average_precision', pipe_final : sklearn.pipeline = None):\n",
    "        self.dataframe = dataframe\n",
    "        self.target = target\n",
    "        self.metric = metric\n",
    "        self._pipe_final = pipe_final\n",
    "    \n",
    "    def fit(self,random_state=42):\n",
    "\n",
    "        self.X,y = ult.splitxy(self.dataframe,self.target)\n",
    "\n",
    "        self.X_forfit = self.X.to_numpy()\n",
    "\n",
    "        self.X_train, self.y_train, self.X_test, self.y_test, self.X_val, self.y_val = ult.train_test_val(self.X_forfit,y)\n",
    "\n",
    "        self.X_test = pd.DataFrame(self.X_test,columns=self.X.columns)\n",
    "\n",
    "        prep_feat_tuple = ult.create_prep_pipe(self.dataframe,self.target)\n",
    "        self.prep_feat = prep_feat_tuple[0]\n",
    "\n",
    "        self.lists_pandarizer = list(prep_feat_tuple[1]) + list(prep_feat_tuple[2])\n",
    "\n",
    "        self.X_train_mct, self.y_train_mct = self.mct()\n",
    "\n",
    "        self.pipe_prep = Pipeline([\n",
    "                    ('transformer_prep', self.prep_feat),\n",
    "                    (\"pandarizer\", FunctionTransformer(lambda x: pd.DataFrame(x, columns = self.lists_pandarizer))),\n",
    "                ])\n",
    "        self.pipe_prep.fit(self.X_train_mct)\n",
    "        \n",
    "        LGBM = LGBMClassifier(random_state = 42, n_jobs = -1)\n",
    "\n",
    "        pipe_tuning = Pipeline([\n",
    "            ('transformer_prep', self.prep_feat),\n",
    "            (\"pandarizer\", FunctionTransformer(lambda x: pd.DataFrame(x, columns = self.lists_pandarizer))),\n",
    "            ('estimator', LGBM)\n",
    "        ])\n",
    "        \n",
    "        cv = StratifiedShuffleSplit(n_splits = 5, test_size = 0.3, random_state = 42)\n",
    "        \n",
    "        metric = self.metric\n",
    "        \n",
    "        fit_params = {\n",
    "            'eval_metric': metric, \n",
    "            'eval_set': [(self.X_test, pd.DataFrame(self.y_test))],\n",
    "            'callbacks': [(early_stopping(stopping_rounds = 10, verbose = True))],\n",
    "        }        \n",
    "        \n",
    "        LGBM_search_space = {\n",
    "            \"estimator__learning_rate\": Real(0.001, 0.01, prior = 'log-uniform'),\n",
    "            \"estimator__n_estimators\": Integer(100, 1000),\n",
    "            \"estimator__class_weight\": Categorical(['balanced', None]),\n",
    "            \"estimator__num_leaves\": Integer(32, 256),\n",
    "            \"estimator__min_child_samples\": Integer(100, 1000),\n",
    "            \"estimator__reg_alpha\": Real(0, 100, prior = 'uniform'),\n",
    "            \"estimator__reg_lambda\": Real(10., 200., prior = 'uniform'),\n",
    "            \"estimator__objective\": Categorical(['binary']),\n",
    "            \"estimator__importance_type\":Categorical(['gain']),\n",
    "            \"estimator__boosting_type\": Categorical(['goss'])\n",
    "        }    \n",
    "        \n",
    "        LGBM_bayes_search = BayesSearchCV(pipe_tuning, LGBM_search_space, n_iter = 2, scoring = metric, \n",
    "                                         return_train_score = True, \n",
    "                                         fit_params = fit_params,\n",
    "                                         n_jobs = -1, cv = cv, random_state = random_state, optimizer_kwargs = {'base_estimator': 'GP'})\n",
    "        \n",
    "        \n",
    "        LGBM_bayes_search.fit(self.pipe_prep.transform(self.X_train_mct), self.y_train_mct)        \n",
    "\n",
    "        results_cv = pd.DataFrame(LGBM_bayes_search.cv_results_)\n",
    "        \n",
    "        temp = results_cv[['mean_train_score', 'mean_test_score']]\n",
    "        temp['diff'] = temp['mean_test_score'] - temp['mean_train_score']\n",
    "        to_go = temp[abs(temp['diff']) < 0.05].sort_values(by = 'mean_test_score', ascending = False).head(1).index\n",
    "        \n",
    "        params = results_cv.loc[to_go.values[0]]\n",
    "        kwargs = params.params   \n",
    "        print(kwargs)\n",
    "        \n",
    "        best_LGBM = LGBMClassifier(random_state = random_state, n_jobs = -1, verbose = -1, **kwargs)\n",
    "        \n",
    "        best_LGBM.fit(self.pipe_prep.transform(self.X_train_mct), self.y_train_mct, early_stopping_rounds = 10, verbose = 20, eval_metric = metric,\n",
    "                     eval_set = [(self.pipe_prep.transform(self.X_test), self.y_test)]) \n",
    "        \n",
    "        \n",
    "        pipe_final = Pipeline(\n",
    "        [\n",
    "            ('pipe_transformer_prep', self.pipe_prep),\n",
    "            ('pipe_estimator', best_LGBM)\n",
    "        ])       \n",
    "        \n",
    "        self._pipe_final = pipe_final\n",
    "        \n",
    "    def mct(self):\n",
    "        \n",
    "        MCT = sv.MCT(random_state=42)\n",
    "        X_train_mct, y_train_mct = MCT.sample(self.X_train,self.y_train)\n",
    "\n",
    "        print(self.X.columns)\n",
    "\n",
    "        X_train_mct = pd.DataFrame(X_train_mct,columns=self.X.columns)\n",
    "        return(X_train_mct,y_train_mct)\n",
    "    \n",
    "    def predict_proba(self, who : str = 'val'):\n",
    "        if self._pipe_final is None:\n",
    "            return None\n",
    "        \n",
    "        X, y = ult.splitxy(self.dataframe, self.target)\n",
    "        X_train, y_train, X_test, y_test, X_val, y_val = ult.train_test_val(X,y)        \n",
    "        \n",
    "        dic = {'val': X_val, \n",
    "              'test': X_test,\n",
    "              'train': X_train}\n",
    "        y_score = self._pipe_final.predict_proba(dic[who])[:,1]\n",
    "        return y_score\n",
    "    \n",
    "    def get_metric(self, who : str = 'val'):\n",
    "        if self._pipe_final is None:\n",
    "            return None\n",
    "        \n",
    "        X, y = ult.splitxy(self.dataframe, self.target)\n",
    "        X_train, y_train, X_test, y_test, X_val, y_val = ult.train_test_val(X,y)\n",
    "        \n",
    "        dic_x = {'val': X_val, \n",
    "              'test': X_test,\n",
    "              'train': X_train}\n",
    "\n",
    "        dic_y = {'val': y_val, \n",
    "              'test': y_test,\n",
    "              'train': y_train}\n",
    "        \n",
    "        \n",
    "        y_score = self._pipe_final.predict_proba(dic_x[who])[:,1]\n",
    "        average_precision = average_precision_score(dic_y[who], y_score)\n",
    "        return average_precision\n",
    "    \n",
    "    \n",
    "    def plot_dist(self):\n",
    "        if self._pipe_final is None:\n",
    "            return None        \n",
    "\n",
    "        X, y = ult.splitxy(self.dataframe, self.target)\n",
    "        X_train, y_train, X_test, y_test, X_val, y_val = ult.train_test_val(X,y)        \n",
    "        \n",
    "        y_score_train = self._pipe_final.predict_proba(X_train)[:,1]\n",
    "        y_score_val = self._pipe_final.predict_proba(X_val)[:,1]\n",
    "        \n",
    "        ult.plot_dist(y_train, y_score_train, y_val, y_score_val)\n",
    "        \n"
   ]
  },
  {
   "cell_type": "code",
   "execution_count": 7,
   "metadata": {},
   "outputs": [],
   "source": [
    "df = pd.read_csv('creditcard.csv')"
   ]
  },
  {
   "cell_type": "code",
   "execution_count": 8,
   "metadata": {},
   "outputs": [
    {
     "name": "stderr",
     "output_type": "stream",
     "text": [
      "2023-05-21 19:40:25,145:INFO:MCT: Running sampling via ('MCT', \"{'proportion': 1.0, 'n_neighbors': 5, 'nn_params': {}, 'n_jobs': 1, 'ss_params': {'n_dim': 1, 'simplex_sampling': 'random', 'within_simplex_sampling': 'random', 'gaussian_component': {}}, 'random_state': 42, 'class_name': 'MCT'}\")\n",
      "2023-05-21 19:40:25,148:INFO:NearestNeighborsWithMetricTensor: NN fitting with metric minkowski\n",
      "2023-05-21 19:40:25,149:INFO:NearestNeighborsWithMetricTensor: kneighbors query minkowski\n",
      "2023-05-21 19:40:25,153:INFO:MCT: simplex sampling with n_dim 1\n"
     ]
    },
    {
     "name": "stdout",
     "output_type": "stream",
     "text": [
      "Index(['Time', 'V1', 'V2', 'V3', 'V4', 'V5', 'V6', 'V7', 'V8', 'V9', 'V10',\n",
      "       'V11', 'V12', 'V13', 'V14', 'V15', 'V16', 'V17', 'V18', 'V19', 'V20',\n",
      "       'V21', 'V22', 'V23', 'V24', 'V25', 'V26', 'V27', 'V28', 'Amount'],\n",
      "      dtype='object')\n"
     ]
    },
    {
     "name": "stderr",
     "output_type": "stream",
     "text": [
      "C:\\Users\\vinic\\AppData\\Local\\Temp\\ipykernel_6568\\3470638653.py:73: SettingWithCopyWarning: \n",
      "A value is trying to be set on a copy of a slice from a DataFrame.\n",
      "Try using .loc[row_indexer,col_indexer] = value instead\n",
      "\n",
      "See the caveats in the documentation: https://pandas.pydata.org/pandas-docs/stable/user_guide/indexing.html#returning-a-view-versus-a-copy\n",
      "  temp['diff'] = temp['mean_test_score'] - temp['mean_train_score']\n",
      "c:\\Users\\vinic\\anaconda3\\envs\\TCC\\lib\\site-packages\\lightgbm\\sklearn.py:726: UserWarning: 'early_stopping_rounds' argument is deprecated and will be removed in a future release of LightGBM. Pass 'early_stopping()' callback via 'callbacks' argument instead.\n",
      "  _log_warning(\"'early_stopping_rounds' argument is deprecated and will be removed in a future release of LightGBM. \"\n",
      "c:\\Users\\vinic\\anaconda3\\envs\\TCC\\lib\\site-packages\\lightgbm\\sklearn.py:736: UserWarning: 'verbose' argument is deprecated and will be removed in a future release of LightGBM. Pass 'log_evaluation()' callback via 'callbacks' argument instead.\n",
      "  _log_warning(\"'verbose' argument is deprecated and will be removed in a future release of LightGBM. \"\n"
     ]
    },
    {
     "name": "stdout",
     "output_type": "stream",
     "text": [
      "OrderedDict([('estimator__boosting_type', 'goss'), ('estimator__class_weight', None), ('estimator__importance_type', 'gain'), ('estimator__learning_rate', 0.002069186296126171), ('estimator__min_child_samples', 703), ('estimator__n_estimators', 473), ('estimator__num_leaves', 111), ('estimator__objective', 'binary'), ('estimator__reg_alpha', 30.44633110365062), ('estimator__reg_lambda', 133.08040178590676)])\n",
      "[20]\tvalid_0's average_precision: 0.648435\tvalid_0's binary_logloss: 0.0760481\n"
     ]
    }
   ],
   "source": [
    "mctao = mct_tcc(df,'Class')\n",
    "mctao.fit()"
   ]
  },
  {
   "cell_type": "code",
   "execution_count": null,
   "metadata": {},
   "outputs": [],
   "source": []
  },
  {
   "cell_type": "code",
   "execution_count": 7,
   "metadata": {},
   "outputs": [],
   "source": [
    "import os, sys\n",
    "sys.path.insert(0, os.path.abspath(\"..\"))\n",
    "from utilidades.calibration import utilities as ult"
   ]
  },
  {
   "cell_type": "code",
   "execution_count": 13,
   "metadata": {},
   "outputs": [
    {
     "data": {
      "text/plain": [
       "array([0.67296395, 0.05458317, 0.01602913, 0.01554114, 0.01666841,\n",
       "       0.3415288 , 0.01504501, 0.98007453, 0.97015051, 0.86974386,\n",
       "       0.44113099, 0.01689564, 0.01421634, 0.95958834, 0.02060815,\n",
       "       0.02927389, 0.03552771, 0.98552069, 0.01434867, 0.01456239,\n",
       "       0.89760019, 0.9796618 , 0.96375839, 0.98576125, 0.88161603,\n",
       "       0.01771074, 0.98576427, 0.98389886, 0.02472986, 0.01490003,\n",
       "       0.01438062, 0.01690606, 0.19076312, 0.03536093, 0.04595581,\n",
       "       0.98217654, 0.98541969, 0.01430731, 0.02197918, 0.98327122,\n",
       "       0.91058029, 0.98536695, 0.95818539, 0.07607331, 0.05002492,\n",
       "       0.01515119, 0.05529098, 0.02120417, 0.02221854, 0.04151961,\n",
       "       0.01550291, 0.02260548, 0.97513409, 0.98574925, 0.09518934,\n",
       "       0.98536379, 0.05592704, 0.0111944 , 0.77290337, 0.01433355,\n",
       "       0.01543   , 0.02080126, 0.01615135, 0.0712243 , 0.98181864,\n",
       "       0.02613348, 0.97970093, 0.92322862, 0.98362852, 0.98525475,\n",
       "       0.04424245, 0.95886633, 0.01410478, 0.12921515, 0.01548304,\n",
       "       0.02337414, 0.0566186 , 0.01766852, 0.01567126, 0.01534168,\n",
       "       0.01594159, 0.0719709 , 0.02461124, 0.98556203, 0.04632944,\n",
       "       0.015219  , 0.01829236, 0.02574149, 0.05357551, 0.06316181,\n",
       "       0.02935972, 0.98566515, 0.01760435, 0.02901158, 0.02286101,\n",
       "       0.98570138, 0.02878663, 0.980922  , 0.98553241, 0.0156586 ,\n",
       "       0.98550342, 0.59382044, 0.9449402 , 0.02478797, 0.01947085,\n",
       "       0.98547399, 0.06780979, 0.0292561 , 0.98418175, 0.02923878,\n",
       "       0.17505479, 0.98209776, 0.98525354, 0.03457685, 0.98547665,\n",
       "       0.01873993, 0.0202161 , 0.01798962, 0.02098236, 0.98570663,\n",
       "       0.01492268, 0.98505531, 0.0137746 , 0.92453487, 0.9857926 ,\n",
       "       0.0148429 , 0.95490776, 0.01676603, 0.98500986, 0.01889991,\n",
       "       0.01958747, 0.01141626, 0.24114882, 0.04825417, 0.98348905,\n",
       "       0.01504255, 0.9668424 , 0.02364835, 0.98547808, 0.01442445,\n",
       "       0.04238844, 0.98455037, 0.9854337 , 0.03505228, 0.01851425,\n",
       "       0.01526506, 0.08990446, 0.04654424, 0.01595768, 0.01547846,\n",
       "       0.89647841, 0.63130769, 0.96332434, 0.0157027 , 0.01552198,\n",
       "       0.01573116, 0.01530933, 0.07318864, 0.01713893, 0.02576682,\n",
       "       0.97462089, 0.05659546, 0.98581743, 0.97939389, 0.96157758,\n",
       "       0.02371125, 0.01432114, 0.98410824, 0.98372642, 0.02592319,\n",
       "       0.02210147, 0.05230382, 0.93135359, 0.31689954, 0.02079775,\n",
       "       0.01894658, 0.01591821, 0.98554955, 0.08926416, 0.01423871,\n",
       "       0.01927044, 0.98515728, 0.01435771, 0.01309512, 0.02816863,\n",
       "       0.01483604, 0.03145292, 0.04874379])"
      ]
     },
     "execution_count": 13,
     "metadata": {},
     "output_type": "execute_result"
    }
   ],
   "source": [
    "mctao.predict_proba(who = 'val')"
   ]
  },
  {
   "cell_type": "code",
   "execution_count": 9,
   "metadata": {},
   "outputs": [
    {
     "data": {
      "text/plain": [
       "[0.9009705425362353, 0.690930188655883, 0.709507633370572]"
      ]
     },
     "execution_count": 9,
     "metadata": {},
     "output_type": "execute_result"
    }
   ],
   "source": [
    "[mctao.get_metric(who = 'train'), mctao.get_metric(who = 'test'), mctao.get_metric(who = 'val')]"
   ]
  },
  {
   "cell_type": "code",
   "execution_count": 10,
   "metadata": {},
   "outputs": [
    {
     "data": {
      "text/plain": [
       "0.19146290916566333"
      ]
     },
     "execution_count": 10,
     "metadata": {},
     "output_type": "execute_result"
    }
   ],
   "source": [
    "mctao.get_metric(who = 'train') - mctao.get_metric(who = 'val')"
   ]
  },
  {
   "cell_type": "code",
   "execution_count": 11,
   "metadata": {},
   "outputs": [
    {
     "name": "stderr",
     "output_type": "stream",
     "text": [
      "c:\\Users\\vinic\\Documents\\Projetos\\TCC\\utilidades\\calibration.py:151: UserWarning: \n",
      "\n",
      "`distplot` is a deprecated function and will be removed in seaborn v0.14.0.\n",
      "\n",
      "Please adapt your code to use either `displot` (a figure-level function with\n",
      "similar flexibility) or `histplot` (an axes-level function for histograms).\n",
      "\n",
      "For a guide to updating your code to use the new functions, please see\n",
      "https://gist.github.com/mwaskom/de44147ed2974457ad6372750bbe5751\n",
      "\n",
      "  sns.distplot(list_1, kde = True, ax = axs[0], hist = True, bins = 100)\n",
      "c:\\Users\\vinic\\Documents\\Projetos\\TCC\\utilidades\\calibration.py:152: UserWarning: \n",
      "\n",
      "`distplot` is a deprecated function and will be removed in seaborn v0.14.0.\n",
      "\n",
      "Please adapt your code to use either `displot` (a figure-level function with\n",
      "similar flexibility) or `histplot` (an axes-level function for histograms).\n",
      "\n",
      "For a guide to updating your code to use the new functions, please see\n",
      "https://gist.github.com/mwaskom/de44147ed2974457ad6372750bbe5751\n",
      "\n",
      "  sns.distplot(list_2, kde = True, ax = axs[0], hist = True, bins = 100)\n",
      "c:\\Users\\vinic\\Documents\\Projetos\\TCC\\utilidades\\calibration.py:165: UserWarning: \n",
      "\n",
      "`distplot` is a deprecated function and will be removed in seaborn v0.14.0.\n",
      "\n",
      "Please adapt your code to use either `displot` (a figure-level function with\n",
      "similar flexibility) or `histplot` (an axes-level function for histograms).\n",
      "\n",
      "For a guide to updating your code to use the new functions, please see\n",
      "https://gist.github.com/mwaskom/de44147ed2974457ad6372750bbe5751\n",
      "\n",
      "  sns.distplot(list_1, kde = True, ax = axs[1], hist = True, bins = 100)\n",
      "c:\\Users\\vinic\\Documents\\Projetos\\TCC\\utilidades\\calibration.py:166: UserWarning: \n",
      "\n",
      "`distplot` is a deprecated function and will be removed in seaborn v0.14.0.\n",
      "\n",
      "Please adapt your code to use either `displot` (a figure-level function with\n",
      "similar flexibility) or `histplot` (an axes-level function for histograms).\n",
      "\n",
      "For a guide to updating your code to use the new functions, please see\n",
      "https://gist.github.com/mwaskom/de44147ed2974457ad6372750bbe5751\n",
      "\n",
      "  sns.distplot(list_2, kde = True, ax = axs[1], hist = True, bins = 100)\n"
     ]
    },
    {
     "data": {
      "image/png": "[encoded data removed]",
      "text/plain": [
       "<Figure size 1600x600 with 2 Axes>"
      ]
     },
     "metadata": {},
     "output_type": "display_data"
    }
   ],
   "source": [
    "mctao.plot_dist()"
   ]
  }
 ],
 "metadata": {
  "kernelspec": {
   "display_name": "TCC",
   "language": "python",
   "name": "python3"
  },
  "language_info": {
   "codemirror_mode": {
    "name": "ipython",
    "version": 3
   },
   "file_extension": ".py",
   "mimetype": "text/x-python",
   "name": "python",
   "nbconvert_exporter": "python",
   "pygments_lexer": "ipython3",
   "version": "3.9.16"
  },
  "orig_nbformat": 4
 },
 "nbformat": 4,
 "nbformat_minor": 2
}
